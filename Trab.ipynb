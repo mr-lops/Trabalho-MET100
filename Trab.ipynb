{
 "cells": [
  {
   "cell_type": "markdown",
   "id": "aec4252e-1bab-405a-8e10-6004c52655bb",
   "metadata": {},
   "source": [
    "Carregando bibliotecas"
   ]
  },
  {
   "cell_type": "code",
   "execution_count": 1,
   "id": "11606bbd-f573-47c5-8eee-63c7e8cecd9b",
   "metadata": {},
   "outputs": [],
   "source": [
    "import pandas as pd\n",
    "import matplotlib.pyplot as plt\n",
    "import seaborn as sns\n",
    "import numpy as np\n",
    "from sklearn.linear_model import LinearRegression"
   ]
  },
  {
   "cell_type": "markdown",
   "id": "04da5a9b-92d3-4d2b-8d1a-504d191b13b1",
   "metadata": {},
   "source": [
    "Importando dados.<br>\n",
    "link dos dados: https://www.kaggle.com/rubenssjr/brasilian-houses-to-rent?select=houses_to_rent_v2.csv"
   ]
  },
  {
   "cell_type": "code",
   "execution_count": 2,
   "id": "ec30d0bc-8fcf-43ae-9810-24635c79f82a",
   "metadata": {},
   "outputs": [
    {
     "data": {
      "text/html": [
       "<div>\n",
       "<style scoped>\n",
       "    .dataframe tbody tr th:only-of-type {\n",
       "        vertical-align: middle;\n",
       "    }\n",
       "\n",
       "    .dataframe tbody tr th {\n",
       "        vertical-align: top;\n",
       "    }\n",
       "\n",
       "    .dataframe thead th {\n",
       "        text-align: right;\n",
       "    }\n",
       "</style>\n",
       "<table border=\"1\" class=\"dataframe\">\n",
       "  <thead>\n",
       "    <tr style=\"text-align: right;\">\n",
       "      <th></th>\n",
       "      <th>city</th>\n",
       "      <th>area</th>\n",
       "      <th>rooms</th>\n",
       "      <th>bathroom</th>\n",
       "      <th>parking spaces</th>\n",
       "      <th>floor</th>\n",
       "      <th>animal</th>\n",
       "      <th>furniture</th>\n",
       "      <th>hoa (R$)</th>\n",
       "      <th>rent amount (R$)</th>\n",
       "      <th>property tax (R$)</th>\n",
       "      <th>fire insurance (R$)</th>\n",
       "      <th>total (R$)</th>\n",
       "    </tr>\n",
       "  </thead>\n",
       "  <tbody>\n",
       "    <tr>\n",
       "      <th>0</th>\n",
       "      <td>São Paulo</td>\n",
       "      <td>70</td>\n",
       "      <td>2</td>\n",
       "      <td>1</td>\n",
       "      <td>1</td>\n",
       "      <td>7</td>\n",
       "      <td>acept</td>\n",
       "      <td>furnished</td>\n",
       "      <td>2065</td>\n",
       "      <td>3300</td>\n",
       "      <td>211</td>\n",
       "      <td>42</td>\n",
       "      <td>5618</td>\n",
       "    </tr>\n",
       "    <tr>\n",
       "      <th>1</th>\n",
       "      <td>São Paulo</td>\n",
       "      <td>320</td>\n",
       "      <td>4</td>\n",
       "      <td>4</td>\n",
       "      <td>0</td>\n",
       "      <td>20</td>\n",
       "      <td>acept</td>\n",
       "      <td>not furnished</td>\n",
       "      <td>1200</td>\n",
       "      <td>4960</td>\n",
       "      <td>1750</td>\n",
       "      <td>63</td>\n",
       "      <td>7973</td>\n",
       "    </tr>\n",
       "    <tr>\n",
       "      <th>2</th>\n",
       "      <td>Porto Alegre</td>\n",
       "      <td>80</td>\n",
       "      <td>1</td>\n",
       "      <td>1</td>\n",
       "      <td>1</td>\n",
       "      <td>6</td>\n",
       "      <td>acept</td>\n",
       "      <td>not furnished</td>\n",
       "      <td>1000</td>\n",
       "      <td>2800</td>\n",
       "      <td>0</td>\n",
       "      <td>41</td>\n",
       "      <td>3841</td>\n",
       "    </tr>\n",
       "    <tr>\n",
       "      <th>3</th>\n",
       "      <td>Porto Alegre</td>\n",
       "      <td>51</td>\n",
       "      <td>2</td>\n",
       "      <td>1</td>\n",
       "      <td>0</td>\n",
       "      <td>2</td>\n",
       "      <td>acept</td>\n",
       "      <td>not furnished</td>\n",
       "      <td>270</td>\n",
       "      <td>1112</td>\n",
       "      <td>22</td>\n",
       "      <td>17</td>\n",
       "      <td>1421</td>\n",
       "    </tr>\n",
       "    <tr>\n",
       "      <th>4</th>\n",
       "      <td>São Paulo</td>\n",
       "      <td>25</td>\n",
       "      <td>1</td>\n",
       "      <td>1</td>\n",
       "      <td>0</td>\n",
       "      <td>1</td>\n",
       "      <td>not acept</td>\n",
       "      <td>not furnished</td>\n",
       "      <td>0</td>\n",
       "      <td>800</td>\n",
       "      <td>25</td>\n",
       "      <td>11</td>\n",
       "      <td>836</td>\n",
       "    </tr>\n",
       "  </tbody>\n",
       "</table>\n",
       "</div>"
      ],
      "text/plain": [
       "           city  area  rooms  bathroom  parking spaces floor     animal  \\\n",
       "0     São Paulo    70      2         1               1     7      acept   \n",
       "1     São Paulo   320      4         4               0    20      acept   \n",
       "2  Porto Alegre    80      1         1               1     6      acept   \n",
       "3  Porto Alegre    51      2         1               0     2      acept   \n",
       "4     São Paulo    25      1         1               0     1  not acept   \n",
       "\n",
       "       furniture  hoa (R$)  rent amount (R$)  property tax (R$)  \\\n",
       "0      furnished      2065              3300                211   \n",
       "1  not furnished      1200              4960               1750   \n",
       "2  not furnished      1000              2800                  0   \n",
       "3  not furnished       270              1112                 22   \n",
       "4  not furnished         0               800                 25   \n",
       "\n",
       "   fire insurance (R$)  total (R$)  \n",
       "0                   42        5618  \n",
       "1                   63        7973  \n",
       "2                   41        3841  \n",
       "3                   17        1421  \n",
       "4                   11         836  "
      ]
     },
     "execution_count": 2,
     "metadata": {},
     "output_type": "execute_result"
    }
   ],
   "source": [
    "dados = pd.read_csv('houses.csv',sep = ',')\n",
    "dados.head()"
   ]
  },
  {
   "cell_type": "markdown",
   "id": "d4167e8b-18b1-4f8a-acab-8a1707d76e9a",
   "metadata": {},
   "source": [
    "   Como podemos identificar, esse dataset contém dados de casas para alugar. <br>\n",
    "   Antes de começar a responder as perguntas que queremos, devemos primeiro fazer um tratamento dos dados.\n",
    "   <br>"
   ]
  },
  {
   "cell_type": "markdown",
   "id": "2916f16e-fa65-465e-943c-6a33f7bc0a14",
   "metadata": {},
   "source": [
    "Vamos dar uma olhada no tamanho do nosso dataset"
   ]
  },
  {
   "cell_type": "code",
   "execution_count": 3,
   "id": "511ad7e6-b433-44e3-9872-b9efac363be8",
   "metadata": {},
   "outputs": [
    {
     "data": {
      "text/plain": [
       "(10692, 13)"
      ]
     },
     "execution_count": 3,
     "metadata": {},
     "output_type": "execute_result"
    }
   ],
   "source": [
    "dados.shape"
   ]
  },
  {
   "cell_type": "markdown",
   "id": "c33ce91c-8ee0-4f7d-aaf7-c9ecef5bf00c",
   "metadata": {},
   "source": [
    "Temos 10.692 linhas e 13 colunas."
   ]
  },
  {
   "cell_type": "markdown",
   "id": "62e0f08f-4ac8-4d3d-8c62-6bb8b4c2a6ca",
   "metadata": {
    "tags": []
   },
   "source": [
    "Agora renomear as colunas e alguns termos que estao em ingles, deixando em portugues para um melhor entendimento."
   ]
  },
  {
   "cell_type": "code",
   "execution_count": 4,
   "id": "0f524c8c-686e-4207-ba8a-0c9d58b1d928",
   "metadata": {},
   "outputs": [
    {
     "data": {
      "text/html": [
       "<div>\n",
       "<style scoped>\n",
       "    .dataframe tbody tr th:only-of-type {\n",
       "        vertical-align: middle;\n",
       "    }\n",
       "\n",
       "    .dataframe tbody tr th {\n",
       "        vertical-align: top;\n",
       "    }\n",
       "\n",
       "    .dataframe thead th {\n",
       "        text-align: right;\n",
       "    }\n",
       "</style>\n",
       "<table border=\"1\" class=\"dataframe\">\n",
       "  <thead>\n",
       "    <tr style=\"text-align: right;\">\n",
       "      <th></th>\n",
       "      <th>cidade</th>\n",
       "      <th>area</th>\n",
       "      <th>quartos</th>\n",
       "      <th>banheiros</th>\n",
       "      <th>vagas</th>\n",
       "      <th>andar</th>\n",
       "      <th>animais</th>\n",
       "      <th>mobilhada</th>\n",
       "      <th>valor_condominio</th>\n",
       "      <th>valor_aluguel</th>\n",
       "      <th>iptu</th>\n",
       "      <th>seguro_incendio</th>\n",
       "      <th>valor_total</th>\n",
       "    </tr>\n",
       "  </thead>\n",
       "  <tbody>\n",
       "    <tr>\n",
       "      <th>0</th>\n",
       "      <td>São Paulo</td>\n",
       "      <td>70</td>\n",
       "      <td>2</td>\n",
       "      <td>1</td>\n",
       "      <td>1</td>\n",
       "      <td>7</td>\n",
       "      <td>aceita</td>\n",
       "      <td>sim</td>\n",
       "      <td>2065</td>\n",
       "      <td>3300</td>\n",
       "      <td>211</td>\n",
       "      <td>42</td>\n",
       "      <td>5618</td>\n",
       "    </tr>\n",
       "    <tr>\n",
       "      <th>1</th>\n",
       "      <td>São Paulo</td>\n",
       "      <td>320</td>\n",
       "      <td>4</td>\n",
       "      <td>4</td>\n",
       "      <td>0</td>\n",
       "      <td>20</td>\n",
       "      <td>aceita</td>\n",
       "      <td>nao</td>\n",
       "      <td>1200</td>\n",
       "      <td>4960</td>\n",
       "      <td>1750</td>\n",
       "      <td>63</td>\n",
       "      <td>7973</td>\n",
       "    </tr>\n",
       "    <tr>\n",
       "      <th>2</th>\n",
       "      <td>Porto Alegre</td>\n",
       "      <td>80</td>\n",
       "      <td>1</td>\n",
       "      <td>1</td>\n",
       "      <td>1</td>\n",
       "      <td>6</td>\n",
       "      <td>aceita</td>\n",
       "      <td>nao</td>\n",
       "      <td>1000</td>\n",
       "      <td>2800</td>\n",
       "      <td>0</td>\n",
       "      <td>41</td>\n",
       "      <td>3841</td>\n",
       "    </tr>\n",
       "    <tr>\n",
       "      <th>3</th>\n",
       "      <td>Porto Alegre</td>\n",
       "      <td>51</td>\n",
       "      <td>2</td>\n",
       "      <td>1</td>\n",
       "      <td>0</td>\n",
       "      <td>2</td>\n",
       "      <td>aceita</td>\n",
       "      <td>nao</td>\n",
       "      <td>270</td>\n",
       "      <td>1112</td>\n",
       "      <td>22</td>\n",
       "      <td>17</td>\n",
       "      <td>1421</td>\n",
       "    </tr>\n",
       "    <tr>\n",
       "      <th>4</th>\n",
       "      <td>São Paulo</td>\n",
       "      <td>25</td>\n",
       "      <td>1</td>\n",
       "      <td>1</td>\n",
       "      <td>0</td>\n",
       "      <td>1</td>\n",
       "      <td>nao_aceita</td>\n",
       "      <td>nao</td>\n",
       "      <td>0</td>\n",
       "      <td>800</td>\n",
       "      <td>25</td>\n",
       "      <td>11</td>\n",
       "      <td>836</td>\n",
       "    </tr>\n",
       "  </tbody>\n",
       "</table>\n",
       "</div>"
      ],
      "text/plain": [
       "         cidade  area  quartos  banheiros  vagas andar     animais mobilhada  \\\n",
       "0     São Paulo    70        2          1      1     7      aceita       sim   \n",
       "1     São Paulo   320        4          4      0    20      aceita       nao   \n",
       "2  Porto Alegre    80        1          1      1     6      aceita       nao   \n",
       "3  Porto Alegre    51        2          1      0     2      aceita       nao   \n",
       "4     São Paulo    25        1          1      0     1  nao_aceita       nao   \n",
       "\n",
       "   valor_condominio  valor_aluguel  iptu  seguro_incendio  valor_total  \n",
       "0              2065           3300   211               42         5618  \n",
       "1              1200           4960  1750               63         7973  \n",
       "2              1000           2800     0               41         3841  \n",
       "3               270           1112    22               17         1421  \n",
       "4                 0            800    25               11          836  "
      ]
     },
     "execution_count": 4,
     "metadata": {},
     "output_type": "execute_result"
    }
   ],
   "source": [
    "dados.columns = ['cidade', 'area', 'quartos', 'banheiros', 'vagas', 'andar', 'animais', 'mobilhada', 'valor_condominio', 'valor_aluguel', 'iptu', 'seguro_incendio', 'valor_total']\n",
    "\n",
    "dados['animais'] = dados['animais'].map({'acept':'aceita', 'not acept':'nao_aceita'})\n",
    "\n",
    "dados['mobilhada'] = dados['mobilhada'].map({'furnished':'sim', 'not furnished':'nao'})\n",
    "\n",
    "dados.head()\n"
   ]
  },
  {
   "cell_type": "markdown",
   "id": "b4266c0d-92e6-4909-b6ac-4f2e6593266f",
   "metadata": {},
   "source": [
    "Depois de uma breve analise, concluimos que as colunas estão identificadas da seguinte forma:<br>\n",
    "<br>\n",
    "cidade = Cidade onde o imóvel está localizada<br>\n",
    "area = Area do imovel<br>\n",
    "quartos = Numero de quartos<br>\n",
    "banheiros = Numero de banheiros<br>\n",
    "vagas = Numero de vagas para estacionar<br>\n",
    "andar = Em qual andar esta situado<br>\n",
    "animais = Aceita animais?<br>\n",
    "mobilhada = Mobilhada?<br>\n",
    "valor_condominio\t = Valor do condomínio em reais<br>\n",
    "valor_aluguel = valor do Aluguel em reais<br>\n",
    "iptu = valor do IPTU em reais<br>\n",
    "seguro_incendio = valor do Seguro Incendio em reais<br>\n",
    "valor_total = soma dos valores das 4 colunas anteriores<br>\n",
    "<br>"
   ]
  },
  {
   "cell_type": "markdown",
   "id": "a13b532c-5593-42b3-b805-c64fcdf1ff30",
   "metadata": {},
   "source": [
    "Primeiro verificar se existe valores faltantes ou duplicados"
   ]
  },
  {
   "cell_type": "code",
   "execution_count": 5,
   "id": "f3b380e2-2a68-4d97-8c38-f2299e0009aa",
   "metadata": {},
   "outputs": [
    {
     "data": {
      "text/plain": [
       "cidade              0\n",
       "area                0\n",
       "quartos             0\n",
       "banheiros           0\n",
       "vagas               0\n",
       "andar               0\n",
       "animais             0\n",
       "mobilhada           0\n",
       "valor_condominio    0\n",
       "valor_aluguel       0\n",
       "iptu                0\n",
       "seguro_incendio     0\n",
       "valor_total         0\n",
       "dtype: int64"
      ]
     },
     "execution_count": 5,
     "metadata": {},
     "output_type": "execute_result"
    }
   ],
   "source": [
    "dados.isnull().sum()"
   ]
  },
  {
   "cell_type": "code",
   "execution_count": 6,
   "id": "389f97bd-79b2-4ded-8c8e-e31ca4e70040",
   "metadata": {
    "scrolled": true,
    "tags": []
   },
   "outputs": [
    {
     "data": {
      "text/html": [
       "<div>\n",
       "<style scoped>\n",
       "    .dataframe tbody tr th:only-of-type {\n",
       "        vertical-align: middle;\n",
       "    }\n",
       "\n",
       "    .dataframe tbody tr th {\n",
       "        vertical-align: top;\n",
       "    }\n",
       "\n",
       "    .dataframe thead th {\n",
       "        text-align: right;\n",
       "    }\n",
       "</style>\n",
       "<table border=\"1\" class=\"dataframe\">\n",
       "  <thead>\n",
       "    <tr style=\"text-align: right;\">\n",
       "      <th></th>\n",
       "      <th>cidade</th>\n",
       "      <th>area</th>\n",
       "      <th>quartos</th>\n",
       "      <th>banheiros</th>\n",
       "      <th>vagas</th>\n",
       "      <th>andar</th>\n",
       "      <th>animais</th>\n",
       "      <th>mobilhada</th>\n",
       "      <th>valor_condominio</th>\n",
       "      <th>valor_aluguel</th>\n",
       "      <th>iptu</th>\n",
       "      <th>seguro_incendio</th>\n",
       "      <th>valor_total</th>\n",
       "    </tr>\n",
       "  </thead>\n",
       "  <tbody>\n",
       "    <tr>\n",
       "      <th>29</th>\n",
       "      <td>São Paulo</td>\n",
       "      <td>20</td>\n",
       "      <td>1</td>\n",
       "      <td>1</td>\n",
       "      <td>0</td>\n",
       "      <td>5</td>\n",
       "      <td>aceita</td>\n",
       "      <td>sim</td>\n",
       "      <td>602</td>\n",
       "      <td>1800</td>\n",
       "      <td>130</td>\n",
       "      <td>23</td>\n",
       "      <td>2555</td>\n",
       "    </tr>\n",
       "    <tr>\n",
       "      <th>76</th>\n",
       "      <td>Porto Alegre</td>\n",
       "      <td>47</td>\n",
       "      <td>1</td>\n",
       "      <td>1</td>\n",
       "      <td>1</td>\n",
       "      <td>1</td>\n",
       "      <td>nao_aceita</td>\n",
       "      <td>sim</td>\n",
       "      <td>400</td>\n",
       "      <td>2200</td>\n",
       "      <td>0</td>\n",
       "      <td>33</td>\n",
       "      <td>2633</td>\n",
       "    </tr>\n",
       "    <tr>\n",
       "      <th>122</th>\n",
       "      <td>Belo Horizonte</td>\n",
       "      <td>100</td>\n",
       "      <td>3</td>\n",
       "      <td>2</td>\n",
       "      <td>2</td>\n",
       "      <td>2</td>\n",
       "      <td>aceita</td>\n",
       "      <td>nao</td>\n",
       "      <td>340</td>\n",
       "      <td>1600</td>\n",
       "      <td>183</td>\n",
       "      <td>22</td>\n",
       "      <td>2145</td>\n",
       "    </tr>\n",
       "    <tr>\n",
       "      <th>149</th>\n",
       "      <td>São Paulo</td>\n",
       "      <td>60</td>\n",
       "      <td>2</td>\n",
       "      <td>1</td>\n",
       "      <td>0</td>\n",
       "      <td>-</td>\n",
       "      <td>aceita</td>\n",
       "      <td>nao</td>\n",
       "      <td>0</td>\n",
       "      <td>1080</td>\n",
       "      <td>94</td>\n",
       "      <td>17</td>\n",
       "      <td>1191</td>\n",
       "    </tr>\n",
       "    <tr>\n",
       "      <th>163</th>\n",
       "      <td>São Paulo</td>\n",
       "      <td>22</td>\n",
       "      <td>1</td>\n",
       "      <td>1</td>\n",
       "      <td>0</td>\n",
       "      <td>-</td>\n",
       "      <td>nao_aceita</td>\n",
       "      <td>nao</td>\n",
       "      <td>0</td>\n",
       "      <td>976</td>\n",
       "      <td>0</td>\n",
       "      <td>15</td>\n",
       "      <td>991</td>\n",
       "    </tr>\n",
       "    <tr>\n",
       "      <th>...</th>\n",
       "      <td>...</td>\n",
       "      <td>...</td>\n",
       "      <td>...</td>\n",
       "      <td>...</td>\n",
       "      <td>...</td>\n",
       "      <td>...</td>\n",
       "      <td>...</td>\n",
       "      <td>...</td>\n",
       "      <td>...</td>\n",
       "      <td>...</td>\n",
       "      <td>...</td>\n",
       "      <td>...</td>\n",
       "      <td>...</td>\n",
       "    </tr>\n",
       "    <tr>\n",
       "      <th>10560</th>\n",
       "      <td>Porto Alegre</td>\n",
       "      <td>40</td>\n",
       "      <td>1</td>\n",
       "      <td>1</td>\n",
       "      <td>1</td>\n",
       "      <td>9</td>\n",
       "      <td>nao_aceita</td>\n",
       "      <td>sim</td>\n",
       "      <td>1300</td>\n",
       "      <td>1200</td>\n",
       "      <td>68</td>\n",
       "      <td>18</td>\n",
       "      <td>2586</td>\n",
       "    </tr>\n",
       "    <tr>\n",
       "      <th>10569</th>\n",
       "      <td>Belo Horizonte</td>\n",
       "      <td>20</td>\n",
       "      <td>1</td>\n",
       "      <td>1</td>\n",
       "      <td>1</td>\n",
       "      <td>-</td>\n",
       "      <td>aceita</td>\n",
       "      <td>sim</td>\n",
       "      <td>0</td>\n",
       "      <td>1100</td>\n",
       "      <td>0</td>\n",
       "      <td>15</td>\n",
       "      <td>1115</td>\n",
       "    </tr>\n",
       "    <tr>\n",
       "      <th>10623</th>\n",
       "      <td>Porto Alegre</td>\n",
       "      <td>47</td>\n",
       "      <td>1</td>\n",
       "      <td>1</td>\n",
       "      <td>1</td>\n",
       "      <td>1</td>\n",
       "      <td>nao_aceita</td>\n",
       "      <td>sim</td>\n",
       "      <td>400</td>\n",
       "      <td>2200</td>\n",
       "      <td>0</td>\n",
       "      <td>33</td>\n",
       "      <td>2633</td>\n",
       "    </tr>\n",
       "    <tr>\n",
       "      <th>10640</th>\n",
       "      <td>São Paulo</td>\n",
       "      <td>27</td>\n",
       "      <td>1</td>\n",
       "      <td>1</td>\n",
       "      <td>0</td>\n",
       "      <td>5</td>\n",
       "      <td>nao_aceita</td>\n",
       "      <td>nao</td>\n",
       "      <td>1405</td>\n",
       "      <td>3500</td>\n",
       "      <td>1</td>\n",
       "      <td>45</td>\n",
       "      <td>4951</td>\n",
       "    </tr>\n",
       "    <tr>\n",
       "      <th>10641</th>\n",
       "      <td>Belo Horizonte</td>\n",
       "      <td>58</td>\n",
       "      <td>2</td>\n",
       "      <td>2</td>\n",
       "      <td>1</td>\n",
       "      <td>5</td>\n",
       "      <td>aceita</td>\n",
       "      <td>nao</td>\n",
       "      <td>400</td>\n",
       "      <td>999</td>\n",
       "      <td>99</td>\n",
       "      <td>14</td>\n",
       "      <td>1512</td>\n",
       "    </tr>\n",
       "  </tbody>\n",
       "</table>\n",
       "<p>604 rows × 13 columns</p>\n",
       "</div>"
      ],
      "text/plain": [
       "               cidade  area  quartos  banheiros  vagas andar     animais  \\\n",
       "29          São Paulo    20        1          1      0     5      aceita   \n",
       "76       Porto Alegre    47        1          1      1     1  nao_aceita   \n",
       "122    Belo Horizonte   100        3          2      2     2      aceita   \n",
       "149         São Paulo    60        2          1      0     -      aceita   \n",
       "163         São Paulo    22        1          1      0     -  nao_aceita   \n",
       "...               ...   ...      ...        ...    ...   ...         ...   \n",
       "10560    Porto Alegre    40        1          1      1     9  nao_aceita   \n",
       "10569  Belo Horizonte    20        1          1      1     -      aceita   \n",
       "10623    Porto Alegre    47        1          1      1     1  nao_aceita   \n",
       "10640       São Paulo    27        1          1      0     5  nao_aceita   \n",
       "10641  Belo Horizonte    58        2          2      1     5      aceita   \n",
       "\n",
       "      mobilhada  valor_condominio  valor_aluguel  iptu  seguro_incendio  \\\n",
       "29          sim               602           1800   130               23   \n",
       "76          sim               400           2200     0               33   \n",
       "122         nao               340           1600   183               22   \n",
       "149         nao                 0           1080    94               17   \n",
       "163         nao                 0            976     0               15   \n",
       "...         ...               ...            ...   ...              ...   \n",
       "10560       sim              1300           1200    68               18   \n",
       "10569       sim                 0           1100     0               15   \n",
       "10623       sim               400           2200     0               33   \n",
       "10640       nao              1405           3500     1               45   \n",
       "10641       nao               400            999    99               14   \n",
       "\n",
       "       valor_total  \n",
       "29            2555  \n",
       "76            2633  \n",
       "122           2145  \n",
       "149           1191  \n",
       "163            991  \n",
       "...            ...  \n",
       "10560         2586  \n",
       "10569         1115  \n",
       "10623         2633  \n",
       "10640         4951  \n",
       "10641         1512  \n",
       "\n",
       "[604 rows x 13 columns]"
      ]
     },
     "execution_count": 6,
     "metadata": {},
     "output_type": "execute_result"
    }
   ],
   "source": [
    "dados[dados.duplicated(keep=False)]"
   ]
  },
  {
   "cell_type": "markdown",
   "id": "c97878e5-5393-4e17-bbf4-5c856f79fea5",
   "metadata": {},
   "source": [
    "parece nao existir valores nulos(caso existisse dados faltantes, o ideal seria, para dados categoricos utilizar a moda para preenche-los e dados quantitativos utilizar a mediana), mas tem varios valores duplicados, nesse caso ate pode ser valido pois podem existir casas iguais. Agora vamos analisar as colunas.<br>"
   ]
  },
  {
   "cell_type": "markdown",
   "id": "b96d4ac7-3f3f-412c-b861-a0c804cd82a8",
   "metadata": {},
   "source": [
    "Vamos dar uma olhada na coluna cidade"
   ]
  },
  {
   "cell_type": "code",
   "execution_count": 7,
   "id": "9d22918e-c282-49d6-b471-535715ad08ee",
   "metadata": {},
   "outputs": [
    {
     "data": {
      "text/plain": [
       "São Paulo         5887\n",
       "Rio de Janeiro    1501\n",
       "Belo Horizonte    1258\n",
       "Porto Alegre      1193\n",
       "Campinas           853\n",
       "Name: cidade, dtype: int64"
      ]
     },
     "execution_count": 7,
     "metadata": {},
     "output_type": "execute_result"
    }
   ],
   "source": [
    "dados['cidade'].value_counts()"
   ]
  },
  {
   "cell_type": "markdown",
   "id": "2186c746-339d-4a8d-a602-b3e636893683",
   "metadata": {},
   "source": [
    "a coluna cidade parece esta ok. Vamos ver as outras..."
   ]
  },
  {
   "cell_type": "code",
   "execution_count": 8,
   "id": "20fb7bb9-9322-4482-9969-967967beeab4",
   "metadata": {},
   "outputs": [
    {
     "data": {
      "text/plain": [
       "count    10692.000000\n",
       "mean       149.217920\n",
       "std        537.016942\n",
       "min         11.000000\n",
       "25%         56.000000\n",
       "50%         90.000000\n",
       "75%        182.000000\n",
       "max      46335.000000\n",
       "Name: area, dtype: float64"
      ]
     },
     "execution_count": 8,
     "metadata": {},
     "output_type": "execute_result"
    }
   ],
   "source": [
    "dados['area'].describe()"
   ]
  },
  {
   "cell_type": "code",
   "execution_count": 9,
   "id": "0af332b7-7d1e-4c8e-89aa-f80b0dad6026",
   "metadata": {},
   "outputs": [
    {
     "name": "stdout",
     "output_type": "stream",
     "text": [
      "[ 2  4  1  3  7  5  8  6 10 13  9]\n"
     ]
    }
   ],
   "source": [
    "print(dados['quartos'].unique())"
   ]
  },
  {
   "cell_type": "code",
   "execution_count": 10,
   "id": "9a19b6c3-b46b-4ce3-b686-1da30fb9d765",
   "metadata": {},
   "outputs": [
    {
     "name": "stdout",
     "output_type": "stream",
     "text": [
      "[ 1  4  3  2  6  5  7  9  8 10]\n"
     ]
    }
   ],
   "source": [
    "print(dados['banheiros'].unique())"
   ]
  },
  {
   "cell_type": "code",
   "execution_count": 11,
   "id": "7284d136-3e3c-4a13-bda7-cb3e1f6474f7",
   "metadata": {},
   "outputs": [
    {
     "name": "stdout",
     "output_type": "stream",
     "text": [
      "[ 1  0  7  4  2  6  3  8  5 10 12]\n"
     ]
    }
   ],
   "source": [
    "print(dados['vagas'].unique())"
   ]
  },
  {
   "cell_type": "code",
   "execution_count": 12,
   "id": "47a8e769-f975-476c-9056-6e08eadb3f06",
   "metadata": {
    "scrolled": true,
    "tags": []
   },
   "outputs": [
    {
     "name": "stdout",
     "output_type": "stream",
     "text": [
      "['7' '20' '6' '2' '1' '-' '4' '3' '10' '11' '24' '9' '8' '17' '18' '5'\n",
      " '13' '15' '16' '14' '26' '12' '21' '19' '22' '27' '23' '35' '25' '46'\n",
      " '28' '29' '301' '51' '32']\n",
      "35\n",
      "-      0.230172\n",
      "1      0.101104\n",
      "2      0.092125\n",
      "3      0.087074\n",
      "4      0.069959\n",
      "5      0.056117\n",
      "6      0.050412\n",
      "7      0.046483\n",
      "8      0.045829\n",
      "9      0.034512\n",
      "10     0.033389\n",
      "11     0.028339\n",
      "12     0.024037\n",
      "13     0.018706\n",
      "14     0.015900\n",
      "15     0.013749\n",
      "16     0.010195\n",
      "17     0.008979\n",
      "18     0.007015\n",
      "19     0.004957\n",
      "20     0.004115\n",
      "21     0.003928\n",
      "25     0.002338\n",
      "23     0.002338\n",
      "22     0.002245\n",
      "26     0.001871\n",
      "24     0.001777\n",
      "27     0.000748\n",
      "28     0.000561\n",
      "29     0.000468\n",
      "32     0.000187\n",
      "51     0.000094\n",
      "301    0.000094\n",
      "35     0.000094\n",
      "46     0.000094\n",
      "Name: andar, dtype: float64\n"
     ]
    }
   ],
   "source": [
    "print(dados['andar'].unique())\n",
    "print(dados['andar'].unique().size)#quantidade de valores unicos que existe\n",
    "print(dados['andar'].value_counts(normalize=True))"
   ]
  },
  {
   "cell_type": "markdown",
   "id": "be1bba7b-741f-4f7e-959a-dc5d2a2492bc",
   "metadata": {},
   "source": [
    "Tem algo de estranho nessa coluna, um valor que é um hifen que ocupa 23% do dados. Há algumas hipoteses do que pode ser esse valor diferente, de acordo com o criador do dataset : \"geralmente representam locais que não estão em um andar especifico, como casas.\".<br>\n",
    "Então vamos preencher esse hifen com o valor \"casa\"."
   ]
  },
  {
   "cell_type": "code",
   "execution_count": 13,
   "id": "3e9fd08f-decd-4597-beb7-749fffad8dc6",
   "metadata": {},
   "outputs": [
    {
     "data": {
      "text/plain": [
       "array(['7', '20', '6', '2', '1', 'casa', '4', '3', '10', '11', '24', '9',\n",
       "       '8', '17', '18', '5', '13', '15', '16', '14', '26', '12', '21',\n",
       "       '19', '22', '27', '23', '35', '25', '46', '28', '29', '301', '51',\n",
       "       '32'], dtype=object)"
      ]
     },
     "execution_count": 13,
     "metadata": {},
     "output_type": "execute_result"
    }
   ],
   "source": [
    "dados.loc[dados['andar'] == '-', 'andar']  = 'casa'\n",
    "dados['andar'].unique()"
   ]
  },
  {
   "cell_type": "markdown",
   "id": "023b4531-6bee-4d97-91ba-8f6e71205bb0",
   "metadata": {},
   "source": [
    "Vamos continuar olhando as outras colunas"
   ]
  },
  {
   "cell_type": "code",
   "execution_count": 14,
   "id": "ce6c73ee-d927-44a1-90a5-ce89e985cff2",
   "metadata": {},
   "outputs": [
    {
     "name": "stdout",
     "output_type": "stream",
     "text": [
      "['aceita' 'nao_aceita']\n"
     ]
    }
   ],
   "source": [
    "print(dados['animais'].unique())"
   ]
  },
  {
   "cell_type": "code",
   "execution_count": 15,
   "id": "fd6bff71-102a-46b9-9f02-037d7aeb29a4",
   "metadata": {},
   "outputs": [
    {
     "name": "stdout",
     "output_type": "stream",
     "text": [
      "['sim' 'nao']\n"
     ]
    }
   ],
   "source": [
    "print(dados['mobilhada'].unique())"
   ]
  },
  {
   "cell_type": "markdown",
   "id": "9f1479e2-e4e3-4d58-92fd-a9cb2262fa12",
   "metadata": {},
   "source": [
    "Vamos verificar os outliers das colunas seguintes, outliers seriam valores fora de um padrao definido, vamos considerar fora padrão valores maiores que 2 desvios padrão."
   ]
  },
  {
   "cell_type": "code",
   "execution_count": 16,
   "id": "9f8e7e30-1fbf-4693-ad8f-fad96c023412",
   "metadata": {},
   "outputs": [
    {
     "data": {
      "text/plain": [
       "count    1.069200e+04\n",
       "mean     1.174022e+03\n",
       "std      1.559231e+04\n",
       "min      0.000000e+00\n",
       "25%      1.700000e+02\n",
       "50%      5.600000e+02\n",
       "75%      1.237500e+03\n",
       "max      1.117000e+06\n",
       "Name: valor_condominio, dtype: float64"
      ]
     },
     "execution_count": 16,
     "metadata": {},
     "output_type": "execute_result"
    }
   ],
   "source": [
    "dados['valor_condominio'].describe()"
   ]
  },
  {
   "cell_type": "code",
   "execution_count": 17,
   "id": "7a819a47-f669-49a0-a7f0-fd1cf95a3b86",
   "metadata": {},
   "outputs": [],
   "source": [
    "#calculamos o desvio padrao\n",
    "desvio = dados['valor_condominio'].std()"
   ]
  },
  {
   "cell_type": "code",
   "execution_count": 18,
   "id": "9cf71786-8686-4f4b-b419-1fbc5b63bd1d",
   "metadata": {},
   "outputs": [
    {
     "data": {
      "text/plain": [
       "(6, 13)"
      ]
     },
     "execution_count": 18,
     "metadata": {},
     "output_type": "execute_result"
    }
   ],
   "source": [
    "#quantidade de linhas e colunas\n",
    "dados.loc[dados['valor_condominio'] >=  2 * desvio].shape"
   ]
  },
  {
   "cell_type": "code",
   "execution_count": 19,
   "id": "374a6e1e-c6da-49cf-a49a-5a93916b1567",
   "metadata": {},
   "outputs": [],
   "source": [
    "dados.drop(dados.loc[dados['valor_condominio'] >=  2 * desvio].index, inplace = True)"
   ]
  },
  {
   "cell_type": "markdown",
   "id": "5804a439-ac4a-433d-852b-a9b0dea6dee9",
   "metadata": {},
   "source": [
    "Existem muitas formas de tratar valores fora do padrao, no caso dessa coluna como são poucas linhas eu removi elas."
   ]
  },
  {
   "cell_type": "code",
   "execution_count": 20,
   "id": "4865c25d-4754-420b-859f-43c720d2ab06",
   "metadata": {},
   "outputs": [
    {
     "data": {
      "text/plain": [
       "count    10686.000000\n",
       "mean      3894.431499\n",
       "std       3404.859373\n",
       "min        450.000000\n",
       "25%       1530.000000\n",
       "50%       2655.000000\n",
       "75%       5000.000000\n",
       "max      45000.000000\n",
       "Name: valor_aluguel, dtype: float64"
      ]
     },
     "execution_count": 20,
     "metadata": {},
     "output_type": "execute_result"
    }
   ],
   "source": [
    "dados['valor_aluguel'].describe()"
   ]
  },
  {
   "cell_type": "code",
   "execution_count": 21,
   "id": "eb98570f-fade-41b2-a0ce-9549d22db69a",
   "metadata": {},
   "outputs": [],
   "source": [
    "desvio = dados['valor_aluguel'].std()"
   ]
  },
  {
   "cell_type": "code",
   "execution_count": 22,
   "id": "be1173ed-168c-43bb-819a-be8d1a7ca3ab",
   "metadata": {},
   "outputs": [
    {
     "data": {
      "text/plain": [
       "(1744, 13)"
      ]
     },
     "execution_count": 22,
     "metadata": {},
     "output_type": "execute_result"
    }
   ],
   "source": [
    "dados.loc[dados['valor_aluguel'] >=  2 * desvio].shape"
   ]
  },
  {
   "cell_type": "code",
   "execution_count": 23,
   "id": "db1e1475-ecac-4b9c-b2df-8014c71103c7",
   "metadata": {},
   "outputs": [],
   "source": [
    "mediana = dados['valor_aluguel'].median()"
   ]
  },
  {
   "cell_type": "code",
   "execution_count": 24,
   "id": "8497b852-732d-42d4-a9f5-986deda09c7e",
   "metadata": {},
   "outputs": [],
   "source": [
    "dados.loc[dados['valor_aluguel'] >=  2 * desvio, 'valor_aluguel'] = mediana"
   ]
  },
  {
   "cell_type": "markdown",
   "id": "e1f70dcb-bd9d-4e9f-88d7-c4a96ab689e6",
   "metadata": {},
   "source": [
    "Nesse caso tem varios valores fora do padrao, entao atribui a esses valores a mediana da coluna"
   ]
  },
  {
   "cell_type": "code",
   "execution_count": 25,
   "id": "5724e76f-577f-4cf2-9537-55b0fba1e0d7",
   "metadata": {},
   "outputs": [
    {
     "data": {
      "text/plain": [
       "count     10686.000000\n",
       "mean        365.702882\n",
       "std        3107.293434\n",
       "min           0.000000\n",
       "25%          38.000000\n",
       "50%         125.000000\n",
       "75%         375.000000\n",
       "max      313700.000000\n",
       "Name: iptu, dtype: float64"
      ]
     },
     "execution_count": 25,
     "metadata": {},
     "output_type": "execute_result"
    }
   ],
   "source": [
    "dados['iptu'].describe()"
   ]
  },
  {
   "cell_type": "code",
   "execution_count": 26,
   "id": "35047ad9-0e44-4b39-889e-8f0b11d42995",
   "metadata": {},
   "outputs": [],
   "source": [
    "desvio = dados['iptu'].std()"
   ]
  },
  {
   "cell_type": "code",
   "execution_count": 27,
   "id": "f3b55ff9-0a82-47f3-a3f7-50dc08277123",
   "metadata": {},
   "outputs": [
    {
     "data": {
      "text/plain": [
       "(10, 13)"
      ]
     },
     "execution_count": 27,
     "metadata": {},
     "output_type": "execute_result"
    }
   ],
   "source": [
    "dados.loc[dados['iptu'] >=  2 * desvio].shape"
   ]
  },
  {
   "cell_type": "code",
   "execution_count": 28,
   "id": "65354318-ca9f-4d1e-a7ef-e6d4120fd666",
   "metadata": {},
   "outputs": [],
   "source": [
    "dados.drop(dados.loc[dados['iptu'] >=  2 * desvio].index, inplace = True)"
   ]
  },
  {
   "cell_type": "code",
   "execution_count": 29,
   "id": "24e450b5-b024-4d22-b4d7-0a5258d00934",
   "metadata": {},
   "outputs": [
    {
     "data": {
      "text/plain": [
       "count    10676.000000\n",
       "mean        53.164200\n",
       "std         47.286498\n",
       "min          3.000000\n",
       "25%         21.000000\n",
       "50%         36.000000\n",
       "75%         68.000000\n",
       "max        451.000000\n",
       "Name: seguro_incendio, dtype: float64"
      ]
     },
     "execution_count": 29,
     "metadata": {},
     "output_type": "execute_result"
    }
   ],
   "source": [
    "dados['seguro_incendio'].describe()"
   ]
  },
  {
   "cell_type": "code",
   "execution_count": 30,
   "id": "051fbe05-5d25-4a74-a997-7a6c5254ae2f",
   "metadata": {},
   "outputs": [],
   "source": [
    "desvio = dados['seguro_incendio'].std()"
   ]
  },
  {
   "cell_type": "code",
   "execution_count": 31,
   "id": "68fbc86f-6879-4ed3-868e-178a6c323295",
   "metadata": {},
   "outputs": [
    {
     "data": {
      "text/plain": [
       "(1694, 13)"
      ]
     },
     "execution_count": 31,
     "metadata": {},
     "output_type": "execute_result"
    }
   ],
   "source": [
    "dados.loc[dados['seguro_incendio'] >=  2 * desvio].shape"
   ]
  },
  {
   "cell_type": "code",
   "execution_count": 32,
   "id": "855c6ca9-d10b-44c8-a359-cececd4ff345",
   "metadata": {},
   "outputs": [],
   "source": [
    "mediana = dados['seguro_incendio'].median()"
   ]
  },
  {
   "cell_type": "code",
   "execution_count": 33,
   "id": "e49a0b57-8ddb-4f49-ae9e-00bf33bf79ab",
   "metadata": {},
   "outputs": [],
   "source": [
    "dados.loc[dados['seguro_incendio'] >=  2 * desvio, 'seguro_incendio'] = mediana"
   ]
  },
  {
   "cell_type": "markdown",
   "id": "f023c4c8-1ce8-44d7-acab-76629107a9ff",
   "metadata": {},
   "source": [
    "Como o valor total é a soma do preço das 4 colunas anteriores, temos que atualiza-lo."
   ]
  },
  {
   "cell_type": "code",
   "execution_count": 34,
   "id": "fab038d3-c4a1-4444-a330-846d7c0c7a25",
   "metadata": {},
   "outputs": [],
   "source": [
    "#somar tudo de novo\n",
    "dados['valor_total'] = dados[['valor_condominio', 'valor_aluguel', 'iptu', 'seguro_incendio']].sum(axis=1)"
   ]
  },
  {
   "cell_type": "code",
   "execution_count": 35,
   "id": "71dd81f4-481f-472a-bd2f-66a371b03645",
   "metadata": {},
   "outputs": [
    {
     "data": {
      "text/plain": [
       "count    10676.000000\n",
       "mean      3907.353878\n",
       "std       2355.677613\n",
       "min        499.000000\n",
       "25%       2059.750000\n",
       "50%       3372.500000\n",
       "75%       5239.500000\n",
       "max      21826.000000\n",
       "Name: valor_total, dtype: float64"
      ]
     },
     "execution_count": 35,
     "metadata": {},
     "output_type": "execute_result"
    }
   ],
   "source": [
    "dados['valor_total'].describe()"
   ]
  },
  {
   "cell_type": "markdown",
   "id": "c6315979-3939-4bf7-86d8-0e4cd67a4898",
   "metadata": {},
   "source": [
    "Agora vamos para as perguntas:"
   ]
  },
  {
   "cell_type": "markdown",
   "id": "b9e1e7aa-ea7c-403d-bdd3-c9f2e5cf6e08",
   "metadata": {},
   "source": [
    "<h2>Pergunta N.º 1: Quantas cidades estão registradas no conjunto de dados?"
   ]
  },
  {
   "cell_type": "code",
   "execution_count": 36,
   "id": "fda3681c-6436-4dd3-8532-87e5ec342e4e",
   "metadata": {},
   "outputs": [
    {
     "name": "stdout",
     "output_type": "stream",
     "text": [
      "As cidades registradas no banco de dados são:\n",
      "\n",
      "São Paulo\n",
      "Porto Alegre\n",
      "Rio de Janeiro\n",
      "Campinas\n",
      "Belo Horizonte\n",
      "\n",
      "São 5 cidades no total\n"
     ]
    }
   ],
   "source": [
    "print(\"As cidades registradas no banco de dados são:\\n\")\n",
    "for i in dados['cidade'].unique():\n",
    "    print(i)\n",
    "else:\n",
    "    print(\"\\nSão 5 cidades no total\")"
   ]
  },
  {
   "cell_type": "markdown",
   "id": "0a476c10-754c-405c-a025-d3512e18a446",
   "metadata": {},
   "source": [
    "<h2>Pergunta N.º 2: Top 5 cidades que aparecem com mais frequencia?"
   ]
  },
  {
   "cell_type": "code",
   "execution_count": 37,
   "id": "ecf8567d-bf23-4092-8ba8-7ad2e73dfdd9",
   "metadata": {},
   "outputs": [
    {
     "data": {
      "image/png": "[encoded data removed]",
      "text/plain": [
       "<Figure size 720x576 with 1 Axes>"
      ]
     },
     "metadata": {
      "needs_background": "light"
     },
     "output_type": "display_data"
    }
   ],
   "source": [
    "plt.figure(figsize=(10, 8))\n",
    "sns.countplot(x = 'cidade', data=dados, order = dados['cidade'].value_counts().index[:], palette = 'mako')\n",
    "plt.ylabel(\"Frequencia\", fontsize=12)\n",
    "plt.xlabel(\"Cidades\", fontsize=12)\n",
    "plt.title(\"Top 5 cidades\", fontsize=15)\n",
    "plt.show()"
   ]
  },
  {
   "cell_type": "markdown",
   "id": "6e9a7cdd-87ad-43d5-85d9-879d6dab102b",
   "metadata": {},
   "source": [
    "<h2>Pergunta N.º 3: Qual a media, mediana e moda da coluna quartos?"
   ]
  },
  {
   "cell_type": "code",
   "execution_count": 38,
   "id": "37d7a3ba-a526-4807-8073-96fcdbf8a65e",
   "metadata": {},
   "outputs": [
    {
     "name": "stdout",
     "output_type": "stream",
     "text": [
      "A media da coluna quartos é 2.51\n",
      "\n",
      "A mediana da coluna quartos é 2\n",
      "\n",
      "A moda da coluna quartos é 3\n",
      "\n"
     ]
    }
   ],
   "source": [
    "print(f\"A media da coluna quartos é {round(dados['quartos'].describe()['mean'],2)}\\n\")\n",
    "print(f\"A mediana da coluna quartos é {round(dados['quartos'].describe()['50%'])}\\n\")\n",
    "print(f\"A moda da coluna quartos é {dados['quartos'].mode()[0]}\\n\")"
   ]
  },
  {
   "cell_type": "markdown",
   "id": "841fd762-e20f-442b-a97b-5c9fc62a4ac0",
   "metadata": {},
   "source": [
    "<h2>Pergunta N.º 4: Qual a media, mediana e moda da coluna banheiros?"
   ]
  },
  {
   "cell_type": "code",
   "execution_count": 39,
   "id": "e1ea9066-2e8b-4d18-a00a-b15345141e4f",
   "metadata": {},
   "outputs": [
    {
     "name": "stdout",
     "output_type": "stream",
     "text": [
      "A media da coluna banheiros é 2.23\n",
      "\n",
      "A mediana da coluna banheiros é 2\n",
      "\n",
      "A moda da coluna banheiros é 1\n",
      "\n"
     ]
    }
   ],
   "source": [
    "print(f\"A media da coluna banheiros é {round(dados['banheiros'].describe()['mean'],2)}\\n\")\n",
    "print(f\"A mediana da coluna banheiros é {round(dados['banheiros'].describe()['50%'])}\\n\")\n",
    "print(f\"A moda da coluna banheiros é {dados['banheiros'].mode()[0]}\\n\")"
   ]
  },
  {
   "cell_type": "markdown",
   "id": "8de25608-550e-4ccc-99d9-126d6bd0a853",
   "metadata": {},
   "source": [
    "<h2>Pergunta N.º 5: Qual a media, mediana e moda da coluna total?"
   ]
  },
  {
   "cell_type": "code",
   "execution_count": 40,
   "id": "908ba5fe-bbac-4e32-99bb-e11243fdf255",
   "metadata": {},
   "outputs": [
    {
     "name": "stdout",
     "output_type": "stream",
     "text": [
      "A media da coluna valor total é 3907.35\n",
      "\n",
      "A mediana da coluna valor total é 3372.5\n",
      "\n",
      "A moda da coluna valor total é 2691\n",
      "\n"
     ]
    }
   ],
   "source": [
    "print(f\"A media da coluna valor total é {round(dados['valor_total'].describe()['mean'],2)}\\n\")\n",
    "print(f\"A mediana da coluna valor total é {dados['valor_total'].describe()['50%']}\\n\")\n",
    "print(f\"A moda da coluna valor total é {dados['valor_total'].mode()[0]}\\n\")"
   ]
  },
  {
   "cell_type": "markdown",
   "id": "5c4d151a-49c8-4d0c-b4c0-64d9beda08ec",
   "metadata": {},
   "source": [
    "<h2>Pergunta N.º 6: Como a coluna IPTU esta distribuida?"
   ]
  },
  {
   "cell_type": "code",
   "execution_count": 41,
   "id": "98cd5739-97e2-4e45-beef-2272c7979cc1",
   "metadata": {},
   "outputs": [
    {
     "data": {
      "image/png": "[encoded data removed]",
      "text/plain": [
       "<Figure size 720x576 with 1 Axes>"
      ]
     },
     "metadata": {
      "needs_background": "light"
     },
     "output_type": "display_data"
    }
   ],
   "source": [
    "plt.figure(figsize=(10, 8))\n",
    "sns.kdeplot(data=dados, x = 'iptu')\n",
    "plt.show()"
   ]
  },
  {
   "cell_type": "markdown",
   "id": "55e1461c-0cfe-404b-b6e8-f485141b36fb",
   "metadata": {},
   "source": [
    "Como podemos ver, esse grafico é bem assimétrico. Tem um pico entre 0 a 500, quer dizer que a maioria dos valores de IPTU dos imoveis estao entre 0 a 500 reais."
   ]
  },
  {
   "cell_type": "markdown",
   "id": "cdc11ff0-98a4-48f5-ad25-4235835852cb",
   "metadata": {},
   "source": [
    "<h2>Pergunta N.º 7: Como a coluna Valor_Aluguel esta distribuida?"
   ]
  },
  {
   "cell_type": "code",
   "execution_count": 42,
   "id": "04508830-fbc0-4270-9ee1-e136b04bd5ad",
   "metadata": {},
   "outputs": [
    {
     "data": {
      "image/png": "[encoded data removed]",
      "text/plain": [
       "<Figure size 720x576 with 1 Axes>"
      ]
     },
     "metadata": {
      "needs_background": "light"
     },
     "output_type": "display_data"
    }
   ],
   "source": [
    "plt.figure(figsize=(10, 8))\n",
    "sns.kdeplot(data=dados, x = 'valor_aluguel')\n",
    "plt.show()"
   ]
  },
  {
   "cell_type": "markdown",
   "id": "9a453c54-6450-4404-81fa-9caba9439d04",
   "metadata": {},
   "source": [
    "Ja nesse grafico podemos ver que exitem 2 picos. O maior esta entre 2500 a 3000 reais e o outro varia entre 1000 a 1500 reais."
   ]
  },
  {
   "cell_type": "markdown",
   "id": "d7de8c0d-bd69-431d-bb30-712d3b2600a0",
   "metadata": {},
   "source": [
    "<h2>Pergunta N.º 8: Como a coluna Valor_condominio esta distribuida?"
   ]
  },
  {
   "cell_type": "code",
   "execution_count": 43,
   "id": "c57dc78b-489f-4296-9260-df6c9b1a2830",
   "metadata": {},
   "outputs": [
    {
     "data": {
      "image/png": "[encoded data removed]",
      "text/plain": [
       "<Figure size 720x576 with 1 Axes>"
      ]
     },
     "metadata": {
      "needs_background": "light"
     },
     "output_type": "display_data"
    }
   ],
   "source": [
    "plt.figure(figsize=(10, 8))\n",
    "sns.kdeplot(data=dados, x = 'valor_condominio')\n",
    "plt.show()"
   ]
  },
  {
   "cell_type": "markdown",
   "id": "0a8dfac0-d917-418d-9122-d389139493b3",
   "metadata": {},
   "source": [
    "Como no primeiro grafico, esse tambem tem quase o mesmo comportamento. A maioria dos imoveis registrados tem o valor do condominio de entre 0 a 2000 reais."
   ]
  },
  {
   "cell_type": "markdown",
   "id": "7e22e746-be91-4487-a9e5-3b34a44261ee",
   "metadata": {},
   "source": [
    "<h2>Pergunta N.º 9: Como as 5 ultimas colunas se correlacionam?"
   ]
  },
  {
   "cell_type": "code",
   "execution_count": 44,
   "id": "bbd8aecf-bf5d-4ce6-a6e9-4f79221e5271",
   "metadata": {},
   "outputs": [],
   "source": [
    "corr = dados.corr().loc['valor_condominio':'valor_total', 'valor_condominio':'valor_total']"
   ]
  },
  {
   "cell_type": "code",
   "execution_count": 45,
   "id": "89151930-7c26-4a49-b470-6cf8cd9ef482",
   "metadata": {},
   "outputs": [
    {
     "data": {
      "image/png": "[encoded data removed]",
      "text/plain": [
       "<Figure size 792x648 with 2 Axes>"
      ]
     },
     "metadata": {
      "needs_background": "light"
     },
     "output_type": "display_data"
    }
   ],
   "source": [
    "mask = np.triu(np.ones_like(corr, dtype=bool))\n",
    "\n",
    "f, ax = plt.subplots(figsize=(11, 9))\n",
    "\n",
    "cmap = sns.diverging_palette(230, 20, as_cmap=True)\n",
    "\n",
    "sns.heatmap(corr, cmap=cmap, center=0,\n",
    "            square=True, annot=True, linewidths=.5, cbar_kws={\"shrink\": .5})\n",
    "plt.show()"
   ]
  },
  {
   "cell_type": "markdown",
   "id": "eae42746-2de9-4e72-9af3-0a766eef7fda",
   "metadata": {},
   "source": [
    "Como podemos ver no mapa de calor acima, as colunas ```valor_condominio``` e ```iptu``` tem uma relação muito fraca com ```valor_aluguel``` e ```seguro_incendio```.<br>\n",
    "Mas olha que interessante, a coluna ```valor_aluguel``` tem uma relação quase perfeita com ```seguro_incendio```, vamos criar um grafico de dispersão para ver se encontramos o motivo."
   ]
  },
  {
   "cell_type": "code",
   "execution_count": 46,
   "id": "dcf4989e-35c0-4711-9cc2-b23af34d5273",
   "metadata": {},
   "outputs": [
    {
     "data": {
      "image/png": "[encoded data removed]",
      "text/plain": [
       "<Figure size 432x432 with 3 Axes>"
      ]
     },
     "metadata": {
      "needs_background": "light"
     },
     "output_type": "display_data"
    }
   ],
   "source": [
    "sns.jointplot(data=dados, x = 'seguro_incendio', y = 'valor_aluguel', kind=\"reg\", joint_kws={'color':'#64E3DD', 'line_kws':{'color':'#E60F00'}})\n",
    "plt.show()"
   ]
  },
  {
   "cell_type": "markdown",
   "id": "545d91e6-a1de-4137-906c-155e02df2ca6",
   "metadata": {},
   "source": [
    "O grafico por si só ja diz o motivo da correlação quase perfeita, como podemos observar, conforme o ```valor_aluguel``` aumenta, o valor de ```seguro_incendio``` tambem aumenta."
   ]
  },
  {
   "cell_type": "markdown",
   "id": "500068cd-9f2f-45e1-a73f-eb027f9a0b45",
   "metadata": {},
   "source": [
    "<h2>Pergunta N.º 10: Seria possivel prever preços de aluguel usando regressão linear com as informações do conjunto de dados?"
   ]
  },
  {
   "cell_type": "markdown",
   "id": "4bd6c239-5173-4576-b010-06afc7217f85",
   "metadata": {},
   "source": [
    "Iremos usar regressão linear para prever o valor do aluguel das casas"
   ]
  },
  {
   "cell_type": "code",
   "execution_count": 47,
   "id": "a9b4ee45-d7cb-42ef-89bb-5ae89a2c635a",
   "metadata": {},
   "outputs": [],
   "source": [
    "#importar biblioteca que facilita a separação\n",
    "from sklearn.model_selection import train_test_split"
   ]
  },
  {
   "cell_type": "markdown",
   "id": "556599d1-a72f-46fc-8491-84b2f38eabe1",
   "metadata": {},
   "source": [
    "Primeiro teremos que preparar os dados para que não tenhamos problemas com sintaxe na hora de treinarmos nosso modelo"
   ]
  },
  {
   "cell_type": "code",
   "execution_count": 48,
   "id": "db6b4f12-35c6-40f5-9865-455d0c373eaf",
   "metadata": {},
   "outputs": [
    {
     "data": {
      "text/html": [
       "<div>\n",
       "<style scoped>\n",
       "    .dataframe tbody tr th:only-of-type {\n",
       "        vertical-align: middle;\n",
       "    }\n",
       "\n",
       "    .dataframe tbody tr th {\n",
       "        vertical-align: top;\n",
       "    }\n",
       "\n",
       "    .dataframe thead th {\n",
       "        text-align: right;\n",
       "    }\n",
       "</style>\n",
       "<table border=\"1\" class=\"dataframe\">\n",
       "  <thead>\n",
       "    <tr style=\"text-align: right;\">\n",
       "      <th></th>\n",
       "      <th>cidade</th>\n",
       "      <th>area</th>\n",
       "      <th>quartos</th>\n",
       "      <th>banheiros</th>\n",
       "      <th>vagas</th>\n",
       "      <th>andar</th>\n",
       "      <th>animais</th>\n",
       "      <th>mobilhada</th>\n",
       "      <th>valor_condominio</th>\n",
       "      <th>valor_aluguel</th>\n",
       "      <th>iptu</th>\n",
       "      <th>seguro_incendio</th>\n",
       "      <th>valor_total</th>\n",
       "    </tr>\n",
       "  </thead>\n",
       "  <tbody>\n",
       "    <tr>\n",
       "      <th>0</th>\n",
       "      <td>1</td>\n",
       "      <td>70</td>\n",
       "      <td>2</td>\n",
       "      <td>1</td>\n",
       "      <td>1</td>\n",
       "      <td>7</td>\n",
       "      <td>True</td>\n",
       "      <td>True</td>\n",
       "      <td>2065</td>\n",
       "      <td>3300</td>\n",
       "      <td>211</td>\n",
       "      <td>42</td>\n",
       "      <td>5618</td>\n",
       "    </tr>\n",
       "    <tr>\n",
       "      <th>1</th>\n",
       "      <td>1</td>\n",
       "      <td>320</td>\n",
       "      <td>4</td>\n",
       "      <td>4</td>\n",
       "      <td>0</td>\n",
       "      <td>20</td>\n",
       "      <td>True</td>\n",
       "      <td>False</td>\n",
       "      <td>1200</td>\n",
       "      <td>4960</td>\n",
       "      <td>1750</td>\n",
       "      <td>63</td>\n",
       "      <td>7973</td>\n",
       "    </tr>\n",
       "    <tr>\n",
       "      <th>2</th>\n",
       "      <td>4</td>\n",
       "      <td>80</td>\n",
       "      <td>1</td>\n",
       "      <td>1</td>\n",
       "      <td>1</td>\n",
       "      <td>6</td>\n",
       "      <td>True</td>\n",
       "      <td>False</td>\n",
       "      <td>1000</td>\n",
       "      <td>2800</td>\n",
       "      <td>0</td>\n",
       "      <td>41</td>\n",
       "      <td>3841</td>\n",
       "    </tr>\n",
       "    <tr>\n",
       "      <th>3</th>\n",
       "      <td>4</td>\n",
       "      <td>51</td>\n",
       "      <td>2</td>\n",
       "      <td>1</td>\n",
       "      <td>0</td>\n",
       "      <td>2</td>\n",
       "      <td>True</td>\n",
       "      <td>False</td>\n",
       "      <td>270</td>\n",
       "      <td>1112</td>\n",
       "      <td>22</td>\n",
       "      <td>17</td>\n",
       "      <td>1421</td>\n",
       "    </tr>\n",
       "    <tr>\n",
       "      <th>4</th>\n",
       "      <td>1</td>\n",
       "      <td>25</td>\n",
       "      <td>1</td>\n",
       "      <td>1</td>\n",
       "      <td>0</td>\n",
       "      <td>1</td>\n",
       "      <td>False</td>\n",
       "      <td>False</td>\n",
       "      <td>0</td>\n",
       "      <td>800</td>\n",
       "      <td>25</td>\n",
       "      <td>11</td>\n",
       "      <td>836</td>\n",
       "    </tr>\n",
       "  </tbody>\n",
       "</table>\n",
       "</div>"
      ],
      "text/plain": [
       "   cidade  area  quartos  banheiros  vagas  andar  animais  mobilhada  \\\n",
       "0       1    70        2          1      1      7     True       True   \n",
       "1       1   320        4          4      0     20     True      False   \n",
       "2       4    80        1          1      1      6     True      False   \n",
       "3       4    51        2          1      0      2     True      False   \n",
       "4       1    25        1          1      0      1    False      False   \n",
       "\n",
       "   valor_condominio  valor_aluguel  iptu  seguro_incendio  valor_total  \n",
       "0              2065           3300   211               42         5618  \n",
       "1              1200           4960  1750               63         7973  \n",
       "2              1000           2800     0               41         3841  \n",
       "3               270           1112    22               17         1421  \n",
       "4                 0            800    25               11          836  "
      ]
     },
     "execution_count": 48,
     "metadata": {},
     "output_type": "execute_result"
    }
   ],
   "source": [
    "# Crio uma nova variavel e atribuo os valores do dataset a essa nova variavel\n",
    "dadosT = dados\n",
    "\n",
    "# Substituo o nome das cidades por indices\n",
    "dadosT['cidade'] = dadosT['cidade'].map({'São Paulo':'1', \n",
    "                                         'Rio de Janeiro':'2', \n",
    "                                         'Belo Horizonte':'3', \n",
    "                                         'Porto Alegre':'4', \n",
    "                                         'Campinas':'5'})\n",
    "\n",
    "# substituo o valor casa para zero\n",
    "dadosT.loc[dadosT['andar'] == 'casa', 'andar']  = '0'\n",
    "\n",
    "# substituo os valores de da coluna mobilhada para se sim = 1, se nao = 0\n",
    "dadosT['mobilhada'] = dadosT['mobilhada'].map({'sim':1, \n",
    "                                         'nao':0})\n",
    "\n",
    "# substituo os valores de da coluna animais para se aceita = 1, se nao_aceita = 0\n",
    "dadosT['animais'] = dadosT['animais'].map({'aceita':1, \n",
    "                                         'nao_aceita':0})\n",
    "\n",
    "#converto todas as colunas para numeros\n",
    "dadosT = dadosT.apply(pd.to_numeric)\n",
    "\n",
    "#converto a coluna mobilhada para valor boleano se 1 = True se 0 = False\n",
    "dadosT['mobilhada'] = dadosT['mobilhada'].astype('bool')\n",
    "\n",
    "#converto a coluna animais para valor boleano se 1 = True se 0 = False\n",
    "dadosT['animais'] = dadosT['animais'].astype('bool')\n",
    "\n",
    "dadosT.head()"
   ]
  },
  {
   "cell_type": "markdown",
   "id": "ba24be03-b826-4c43-9646-a68fe4c8105d",
   "metadata": {},
   "source": [
    "Agora devemos separar os dados em treino e teste para saber-mos a eficiencia do modelo.<br>\n",
    "Vamos separar 20% dos dados para teste e 80% para treino."
   ]
  },
  {
   "cell_type": "code",
   "execution_count": 49,
   "id": "d62cb6aa-9577-43d7-84bb-f6473e4ec5bd",
   "metadata": {},
   "outputs": [],
   "source": [
    "x = dadosT.drop(['valor_total','valor_aluguel','valor_condominio','seguro_incendio','iptu'], axis = 1)\n",
    "y = dadosT['valor_aluguel'] \n",
    "\n",
    "#separando dados de treino e teste\n",
    "x_treino, x_teste, y_treino, y_teste = train_test_split(x, y, test_size = 0.2, random_state=123)"
   ]
  },
  {
   "cell_type": "markdown",
   "id": "ba2016a8-9d03-4adb-8ee0-817e2eb27b04",
   "metadata": {},
   "source": [
    "Retirei as colunas ```valor_total```, ```valor_aluguel``` , ```valor_condominio``` , ```seguro_incendio```, ```iptu``` e deixei as outras coluans no ```x``` que é nossa variavel independente. <br>\n",
    "No ```y``` deixei a coluna ```valor_aluguel``` que é nossa variavel dependente.<br>"
   ]
  },
  {
   "cell_type": "markdown",
   "id": "16981593-8915-4862-ba33-3c7dba0d98d1",
   "metadata": {},
   "source": [
    "Agora vamos treinar nosso modelo com os dados de treino e depois testa-lo com os dados de teste."
   ]
  },
  {
   "cell_type": "code",
   "execution_count": 50,
   "id": "0322f3ea-fccd-4160-a7d3-7bc6016f42bb",
   "metadata": {},
   "outputs": [
    {
     "data": {
      "text/plain": [
       "0.269510718241634"
      ]
     },
     "execution_count": 50,
     "metadata": {},
     "output_type": "execute_result"
    }
   ],
   "source": [
    "#cria o modelo de regressão linear\n",
    "modelo = LinearRegression()\n",
    "\n",
    "# Treina o modelo com os dados de treino\n",
    "modelo.fit(x_treino, y_treino)\n",
    "\n",
    "# Testa a eficiencia do modelo com os dados de teste\n",
    "modelo.score(x_teste, y_teste)"
   ]
  },
  {
   "cell_type": "markdown",
   "id": "02f1bebf-9221-4e73-b238-88f97a5e55a1",
   "metadata": {},
   "source": [
    "Como resultado, temos o valor da acurácia: ~0,269. Então, concluímos que o nosso modelo está acertando ~27% das previsões (caso tivéssemos 100 experimentos, o modelo acertaria 27 casos e erraria 73 casos).<br>\n",
    "È um resultado ruim, vamos adicionar algumas colunas para ver o seu desempenho."
   ]
  },
  {
   "cell_type": "code",
   "execution_count": 51,
   "id": "fcde0848-422f-4e79-b108-ea4218cf2620",
   "metadata": {},
   "outputs": [],
   "source": [
    "x1 = dadosT.drop(['valor_total','valor_aluguel'], axis = 1)\n",
    "y1 = dadosT['valor_aluguel']\n",
    "\n",
    "#separando dados de treino e teste\n",
    "x1_treino, x1_teste, y1_treino, y1_teste = train_test_split(x1, y1, test_size = 0.2, random_state=123)"
   ]
  },
  {
   "cell_type": "markdown",
   "id": "ba9c83a1-ed66-4a0d-b626-e451dde621d5",
   "metadata": {},
   "source": [
    "Agora adicionei as colunas  ```valor_condominio``` , ```seguro_incendio```, ```iptu``` como variaveis independentes tambem, vamos ver o resultado."
   ]
  },
  {
   "cell_type": "code",
   "execution_count": 52,
   "id": "1fd43f32-58db-49f6-a18b-be0eb0e92ac2",
   "metadata": {},
   "outputs": [
    {
     "data": {
      "text/plain": [
       "0.7846786784544583"
      ]
     },
     "execution_count": 52,
     "metadata": {},
     "output_type": "execute_result"
    }
   ],
   "source": [
    "#cria o modelo de regressão linear\n",
    "modelo2 = LinearRegression()\n",
    "\n",
    "# Treina o modelo com os dados de treino\n",
    "modelo2.fit(x1_treino, y1_treino)\n",
    "\n",
    "# Testa a eficiencia do modelo com os dados de teste\n",
    "modelo2.score(x1_teste, y1_teste)"
   ]
  },
  {
   "cell_type": "markdown",
   "id": "bb3f4099-fce0-4ba3-bc7d-a120329f387d",
   "metadata": {},
   "source": [
    " Agora temos o valor da acurácia: ~0,784. Quer dizer que o nosso modelo está acertando ~78% das previsões.<br><br>\n",
    " Melhorou bastante o resultado de previsão em relação ao anterior. Concluimos que, para o modelo conseguir uma boa acuracia precisariamos das colunas que foram adicionadas considerando o volume de dados que temos no momento, ou precisariamos de mais dados.<br><br>"
   ]
  },
  {
   "cell_type": "markdown",
   "id": "a79d339d-b020-4a66-980c-df69fe925a33",
   "metadata": {},
   "source": [
    "                                 3 ads Noturno - Vitor Santos Lopes"
   ]
  }
 ],
 "metadata": {
  "kernelspec": {
   "display_name": "Python 3",
   "language": "python",
   "name": "python3"
  },
  "language_info": {
   "codemirror_mode": {
    "name": "ipython",
    "version": 3
   },
   "file_extension": ".py",
   "mimetype": "text/x-python",
   "name": "python",
   "nbconvert_exporter": "python",
   "pygments_lexer": "ipython3",
   "version": "3.7.10"
  }
 },
 "nbformat": 4,
 "nbformat_minor": 5
}
